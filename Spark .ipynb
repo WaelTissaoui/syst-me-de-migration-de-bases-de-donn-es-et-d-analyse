{
 "cells": [
  {
   "cell_type": "code",
   "execution_count": 15,
   "id": "eb785670",
   "metadata": {},
   "outputs": [],
   "source": [
    "from pyspark.sql import SparkSession\n",
    "from pyspark.sql.functions import *\n",
    "appName = \"mysql exemple\"\n",
    "master = \"local\"\n",
    "spark= SparkSession.builder.master(master).appName(appName)\\\n",
    ".config(\"spark.jars\",\"/home/tissaoui/Desktop/projetA/data-pipeline/postgresql-42.2.6.jar,/home/tissaoui/Desktop/projetA/data-pipeline/elasticsearch-spark-30_2.12-8.8.1.jar\").getOrCreate()"
   ]
  },
  {
   "cell_type": "code",
   "execution_count": 16,
   "id": "68a2a7f9",
   "metadata": {},
   "outputs": [],
   "source": [
    "def dataframe_from_table(table_name):\n",
    "    df = spark.read \\\n",
    "        .format(\"jdbc\") \\\n",
    "        .option(\"url\", \"jdbc:postgresql://localhost:5432/database\") \\\n",
    "        .option(\"dbtable\", table_name) \\\n",
    "        .option(\"user\", \"softbrain\") \\\n",
    "        .option(\"password\", \"softbrain\") \\\n",
    "        .option(\"driver\", \"org.postgresql.Driver\") \\\n",
    "        .load()\n",
    "    return df\n",
    "\n",
    "\n",
    "category_product_df = dataframe_from_table(\"category\")\n",
    "product_df = dataframe_from_table(\"product\")\n",
    "sales_df = dataframe_from_table(\"sales\")\n",
    "customer_df = dataframe_from_table(\"customer\")"
   ]
  },
  {
   "cell_type": "code",
   "execution_count": 46,
   "id": "7c57766b",
   "metadata": {},
   "outputs": [
    {
     "data": {
      "text/plain": [
       "10010"
      ]
     },
     "execution_count": 46,
     "metadata": {},
     "output_type": "execute_result"
    }
   ],
   "source": [
    "customer_df.count()"
   ]
  },
  {
   "cell_type": "code",
   "execution_count": 17,
   "id": "4f1fc365",
   "metadata": {},
   "outputs": [
    {
     "name": "stdout",
     "output_type": "stream",
     "text": [
      "+---+-----------------+--------------------+-------------------+-------------------+\n",
      "| id|    category_name|category_description|      creation_date|        update_date|\n",
      "+---+-----------------+--------------------+-------------------+-------------------+\n",
      "|  1|      Electronics|The best deals on...|2022-11-21 19:11:34|2022-12-14 18:04:32|\n",
      "|  2|         Clothing|Trendy clothing f...|2023-02-01 05:47:10|2023-04-24 02:07:50|\n",
      "|  3|            Books|Discover the best...|2023-05-11 04:09:43|2023-06-28 22:11:27|\n",
      "|  4|    Home & Garden|Upgrade your home...|2022-09-20 20:04:11|2023-04-12 17:11:14|\n",
      "|  5|           Beauty|Get the latest be...|2022-12-23 08:11:28|2023-07-03 23:29:32|\n",
      "|  6|             Toys|Fun toys for kids...|2022-05-17 02:53:37|2022-07-20 07:33:56|\n",
      "|  7|Sports & Outdoors|Sports and outdoo...|2022-06-26 05:07:49|2023-04-05 13:08:38|\n",
      "|  8| Food & Beverages|Delicious food an...|2023-06-17 06:59:10|2023-09-02 01:23:52|\n",
      "|  9|           Health|Stay healthy and ...|2022-06-02 00:33:07|2023-07-06 16:06:59|\n",
      "| 10|       Automotive|Upgrade your ride...|2022-01-22 06:36:15|2022-11-14 00:07:17|\n",
      "+---+-----------------+--------------------+-------------------+-------------------+\n",
      "\n"
     ]
    }
   ],
   "source": [
    "category_product_df.show()"
   ]
  },
  {
   "cell_type": "code",
   "execution_count": 18,
   "id": "9d491633",
   "metadata": {},
   "outputs": [
    {
     "name": "stdout",
     "output_type": "stream",
     "text": [
      "+---+-----------+-------------------+------+--------------+-------------------+-------------------+\n",
      "| id|category_id|       product_name| price|stock_quantity|      creation_date|        update_date|\n",
      "+---+-----------+-------------------+------+--------------+-------------------+-------------------+\n",
      "|  1|          5|             Makeup|554.04|           369|2022-05-31 23:05:36|2022-11-02 16:58:56|\n",
      "|  2|          1|           Smart TV|302.83|            77|2022-08-12 20:34:37|2022-12-18 12:55:27|\n",
      "|  3|          4|          Furniture|295.62|           439|2023-08-13 01:02:27|2023-08-13 03:04:54|\n",
      "|  4|         10|      Car Batteries|538.32|           696|2022-09-11 12:58:52|2023-08-13 17:12:49|\n",
      "|  5|          9|     First Aid Kits|451.17|           211|2023-09-17 15:17:00|2023-09-18 06:10:47|\n",
      "|  6|          2|           T-shirts|688.54|           364|2023-03-01 14:39:55|2023-05-19 06:21:49|\n",
      "|  7|          9|           Vitamins|303.15|           295|2023-01-01 07:52:03|2023-09-06 20:11:33|\n",
      "|  8|          6|        Board Games|902.02|           871|2023-07-13 18:58:14|2023-09-12 16:44:50|\n",
      "|  9|          2|            Jackets| 102.6|           197|2023-08-11 05:31:17|2023-09-18 03:24:42|\n",
      "| 10|          6|Remote Control Cars|948.81|           394|2022-08-19 14:08:38|2023-06-02 21:12:35|\n",
      "| 11|          3|         Audiobooks|725.82|           867|2023-07-16 22:38:44|2023-08-08 07:24:57|\n",
      "| 12|          2|              Jeans|503.93|           505|2022-05-08 17:33:19|2023-03-22 06:06:53|\n",
      "| 13|          4|         Home Decor|987.34|           520|2022-11-08 21:15:31|2022-12-29 16:15:19|\n",
      "| 14|          8|                Tea|507.32|           637|2022-06-14 12:36:12|2023-05-12 21:19:24|\n",
      "| 15|          3|        Comic Books|  58.4|           574|2022-05-22 14:07:11|2022-12-10 17:03:16|\n",
      "| 16|          4|    Gardening Tools|173.21|           553|2023-01-20 22:54:48|2023-06-12 02:11:56|\n",
      "| 17|          5|         Fragrances| 358.7|           621|2023-06-15 10:46:26|2023-09-22 10:47:40|\n",
      "| 18|          1|             Tablet|559.26|           763|2022-05-31 10:43:51|2023-05-24 16:40:10|\n",
      "| 19|          1|         Smartphone|688.83|           743|2022-06-23 03:36:21|2022-07-11 15:52:17|\n",
      "| 20|          5|          Hair Care|349.68|           303|2022-04-01 06:11:24|2022-05-01 16:08:31|\n",
      "+---+-----------+-------------------+------+--------------+-------------------+-------------------+\n",
      "only showing top 20 rows\n",
      "\n"
     ]
    }
   ],
   "source": [
    "product_df.show()"
   ]
  },
  {
   "cell_type": "code",
   "execution_count": 19,
   "id": "86ca8b6f",
   "metadata": {},
   "outputs": [
    {
     "name": "stdout",
     "output_type": "stream",
     "text": [
      "+---+----------+-----------+-----------+----------+-------------------+-------------------+\n",
      "| id|product_id|customer_id|total_price| sale_date|      creation_date|        update_date|\n",
      "+---+----------+-----------+-----------+----------+-------------------+-------------------+\n",
      "|  1|         5|          8|     451.17|2023-09-20|2023-09-20 02:56:10|2023-09-23 08:09:41|\n",
      "|  2|         8|          1|     902.02|2023-08-06|2023-08-06 06:42:10|2023-08-30 19:45:10|\n",
      "|  3|         5|          3|     451.17|2023-09-20|2023-09-20 15:04:25|2023-09-23 08:06:26|\n",
      "|  4|         7|          7|     303.15|2023-08-04|2023-08-04 07:42:05|2023-09-02 22:06:19|\n",
      "|  5|         7|          1|     303.15|2023-06-04|2023-06-04 16:35:01|2023-09-25 23:42:11|\n",
      "|  6|         5|          3|     451.17|2023-09-27|2023-09-27 04:32:21|2023-09-29 22:27:34|\n",
      "|  7|         3|          1|     295.62|2023-09-02|2023-09-02 18:58:32|2023-09-21 09:08:36|\n",
      "|  8|         2|          3|     302.83|2023-08-26|2023-08-26 14:17:15|2023-09-07 05:46:29|\n",
      "|  9|         6|         10|     688.54|2023-09-24|2023-09-24 13:24:34|2023-09-29 08:03:11|\n",
      "| 10|         1|         10|     554.04|2022-12-13|2022-12-13 08:30:34|2023-04-26 04:34:09|\n",
      "| 11|        23|       7775|     240.71|2023-09-29|2023-09-29 21:42:43|2023-09-29 23:51:38|\n",
      "| 12|        23|       9550|     240.71|2022-11-05|2022-11-05 07:22:18|2023-04-21 06:38:45|\n",
      "| 13|        27|       8578|     738.97|2023-02-17|2023-02-17 17:53:59|2023-06-19 00:59:10|\n",
      "| 14|        11|       4510|     725.82|2023-07-26|2023-07-26 20:42:32|2023-07-31 13:05:11|\n",
      "| 15|        41|       8264|     994.75|2023-09-27|2023-09-27 03:53:34|2023-09-28 02:59:24|\n",
      "| 16|        22|       8328|     430.59|2023-05-06|2023-05-06 12:33:51|2023-06-25 08:33:22|\n",
      "| 17|        28|       5318|     899.37|2022-03-30|2022-03-30 16:28:48|2022-06-17 11:55:10|\n",
      "| 18|        28|        862|     899.37|2023-01-28|2023-01-28 20:14:47|2023-05-13 15:32:41|\n",
      "| 19|        33|       5679|      96.31|2022-08-26|2022-08-26 07:53:55|2023-08-25 07:26:26|\n",
      "| 20|        12|        811|     503.93|2023-01-07|2023-01-07 01:59:38|2023-05-01 06:56:34|\n",
      "+---+----------+-----------+-----------+----------+-------------------+-------------------+\n",
      "only showing top 20 rows\n",
      "\n"
     ]
    }
   ],
   "source": [
    "sales_df.show()"
   ]
  },
  {
   "cell_type": "code",
   "execution_count": 20,
   "id": "750614b9",
   "metadata": {},
   "outputs": [
    {
     "name": "stdout",
     "output_type": "stream",
     "text": [
      "+---+------------------+--------------------+------+-------------------+-------------------+\n",
      "| id|     customer_name|             adresse|gender|      creation_date|        update_date|\n",
      "+---+------------------+--------------------+------+-------------------+-------------------+\n",
      "|  1|    Brian Mckenzie|3431 Linda Way Su...|     M|2022-05-21 15:39:59|2022-08-18 01:31:45|\n",
      "|  2|      Rhonda Price|9779 Monique Vill...|     F|2023-05-04 19:41:36|2023-05-17 18:38:22|\n",
      "|  3|    Trevor Schultz|70584 David Fall ...|     M|2023-09-25 02:10:48|2023-09-25 08:42:22|\n",
      "|  4|   Jeffrey Griffin|8073 Bradley Expr...|     F|2023-09-16 19:29:52|2023-09-24 10:08:02|\n",
      "|  5| Benjamin Williams|  4339 Timothy Roads|     M|2023-07-22 20:56:56|2023-08-12 23:10:25|\n",
      "|  6|      Kristin Ford| 14644 Jordan Groves|     F|2023-08-05 05:46:58|2023-09-17 14:55:26|\n",
      "|  7|        John Smith|  53710 Justin Parks|     F|2023-03-27 16:05:16|2023-07-16 10:41:40|\n",
      "|  8|      Diane Foster|14234 Alison Curv...|     M|2022-07-06 15:23:35|2023-02-06 14:24:08|\n",
      "|  9|     Alicia Duncan|201 Figueroa Streets|     F|2023-07-15 06:03:16|2023-09-17 05:07:35|\n",
      "| 10|    Samantha Boyle|    16152 Alec Haven|     M|2023-05-08 23:14:25|2023-09-21 00:29:19|\n",
      "| 11|          Mary Ray|1880 Brandon Springs|     M|2022-09-25 08:58:41|2023-06-06 01:42:08|\n",
      "| 12|Benjamin Wilkinson|61934 Nancy Fork ...|     M|2022-06-13 04:52:18|2023-08-01 05:10:13|\n",
      "| 13|      Krista James|    809 King Valleys|     M|2022-06-19 03:56:17|2023-02-09 15:43:23|\n",
      "| 14|       Mark Dawson|    469 Darryl Knoll|     F|2022-02-20 09:54:33|2022-10-22 01:26:34|\n",
      "| 15|       Curtis King|    077 Tapia Divide|     M|2023-06-08 06:09:23|2023-09-19 08:32:27|\n",
      "| 16|      Carolyn Hill| 68764 Travis Shoals|     F|2022-11-11 02:26:14|2023-01-17 01:59:57|\n",
      "| 17|      Noah Bennett|     373 Angie Walks|     F|2022-12-05 00:01:24|2023-04-03 00:34:10|\n",
      "| 18|   Savannah Martin|45614 Heath Junct...|     M|2022-08-23 07:44:32|2022-09-02 06:31:05|\n",
      "| 19|     Richard Velez|16826 Edward Fort...|     F|2022-01-08 04:35:14|2023-09-05 22:54:34|\n",
      "| 20|  Jennifer Summers|9869 Rebecca Caus...|     M|2023-09-08 22:49:01|2023-09-19 00:15:30|\n",
      "+---+------------------+--------------------+------+-------------------+-------------------+\n",
      "only showing top 20 rows\n",
      "\n"
     ]
    }
   ],
   "source": [
    "customer_df.show()"
   ]
  },
  {
   "cell_type": "code",
   "execution_count": 63,
   "id": "afba282e",
   "metadata": {},
   "outputs": [
    {
     "name": "stdout",
     "output_type": "stream",
     "text": [
      "+-----------+----------+------+-------------------+-----------+------+-----------------+\n",
      "|customer_id|product_id|gender|          sale_date|category_id| price|    category_name|\n",
      "+-----------+----------+------+-------------------+-----------+------+-----------------+\n",
      "|        463|        26|     M|2023-04-18 00:00:00|          3|631.28|            Books|\n",
      "|        471|        13|     F|2023-01-22 00:00:00|          4|987.34|    Home & Garden|\n",
      "|        496|        32|     M|2022-06-28 00:00:00|          4|692.94|    Home & Garden|\n",
      "|        496|        11|     M|2023-09-19 00:00:00|          3|725.82|            Books|\n",
      "|        833|        26|     F|2022-09-04 00:00:00|          3|631.28|            Books|\n",
      "|       1088|        13|     F|2022-12-16 00:00:00|          4|987.34|    Home & Garden|\n",
      "|       1238|        34|     F|2023-05-23 00:00:00|          7|636.14|Sports & Outdoors|\n",
      "|       1580|        18|     M|2022-11-02 00:00:00|          1|559.26|      Electronics|\n",
      "|       1580|        33|     M|2023-04-09 00:00:00|          8| 96.31| Food & Beverages|\n",
      "|       1591|        34|     F|2023-03-27 00:00:00|          7|636.14|Sports & Outdoors|\n",
      "|       1645|        25|     M|2023-02-26 00:00:00|          9|317.03|           Health|\n",
      "|       2142|        15|     M|2023-08-09 00:00:00|          3|  58.4|            Books|\n",
      "|       2142|        30|     M|2023-09-27 00:00:00|          2|103.16|         Clothing|\n",
      "|       2366|        34|     M|2022-12-16 00:00:00|          7|636.14|Sports & Outdoors|\n",
      "|       3175|        20|     F|2022-05-20 00:00:00|          5|349.68|           Beauty|\n",
      "|       3175|        45|     F|2023-06-02 00:00:00|          3|299.92|            Books|\n",
      "|       3918|        21|     F|2023-09-26 00:00:00|         10| 50.12|       Automotive|\n",
      "|       4101|        45|     M|2023-04-20 00:00:00|          3|299.92|            Books|\n",
      "|       4101|        27|     M|2022-12-06 00:00:00|          2|738.97|         Clothing|\n",
      "|       4818|         6|     F|2023-08-01 00:00:00|          2|688.54|         Clothing|\n",
      "+-----------+----------+------+-------------------+-----------+------+-----------------+\n",
      "only showing top 20 rows\n",
      "\n"
     ]
    }
   ],
   "source": [
    "new_df = sales_df.join(customer_df).filter(sales_df[\"customer_id\"] == customer_df[\"id\"]) \n",
    "\n",
    "#new_df.show()\n",
    "new_df = new_df.select(col(\"customer_id\"),col(\"product_id\"),col(\"gender\"),col(\"sale_date\"))\n",
    "new_df = new_df.join(product_df,new_df[\"product_id\"] == product_df[\"id\"])\n",
    "new_df = new_df.drop(\"id\",\"product_name\",\"stock_quantity\",\"creation_date\",\"update_date\")\n",
    "new_df = new_df.join(category_product_df , new_df[\"category_id\"] == category_product_df[\"id\"],\"left\" )\n",
    "new_df = new_df.drop(\"id\",\"category_description\",\"creation_date\",\"update_date\")\n",
    "new_df= new_df.withColumn(\"sale_date\", to_timestamp(col(\"sale_date\"), \"yyyy-MM-dd\"))\n",
    "new_df.show()\n"
   ]
  },
  {
   "cell_type": "code",
   "execution_count": 64,
   "id": "f3755411",
   "metadata": {},
   "outputs": [
    {
     "name": "stdout",
     "output_type": "stream",
     "text": [
      "+-----------+----------+------+-------------------+-----------+------+-----------------+\n",
      "|customer_id|product_id|gender|          sale_date|category_id| price|    category_name|\n",
      "+-----------+----------+------+-------------------+-----------+------+-----------------+\n",
      "|        463|        26|     M|2023-04-18 00:00:00|          3|631.28|            Books|\n",
      "|        471|        13|     F|2023-01-22 00:00:00|          4|987.34|    Home & Garden|\n",
      "|        496|        32|     M|2022-06-28 00:00:00|          4|692.94|    Home & Garden|\n",
      "|        496|        11|     M|2023-09-19 00:00:00|          3|725.82|            Books|\n",
      "|        833|        26|     F|2022-09-04 00:00:00|          3|631.28|            Books|\n",
      "|       1088|        13|     F|2022-12-16 00:00:00|          4|987.34|    Home & Garden|\n",
      "|       1238|        34|     F|2023-05-23 00:00:00|          7|636.14|Sports & Outdoors|\n",
      "|       1580|        18|     M|2022-11-02 00:00:00|          1|559.26|      Electronics|\n",
      "|       1580|        33|     M|2023-04-09 00:00:00|          8| 96.31| Food & Beverages|\n",
      "|       1591|        34|     F|2023-03-27 00:00:00|          7|636.14|Sports & Outdoors|\n",
      "|       1645|        25|     M|2023-02-26 00:00:00|          9|317.03|           Health|\n",
      "|       2142|        15|     M|2023-08-09 00:00:00|          3|  58.4|            Books|\n",
      "|       2142|        30|     M|2023-09-27 00:00:00|          2|103.16|         Clothing|\n",
      "|       2366|        34|     M|2022-12-16 00:00:00|          7|636.14|Sports & Outdoors|\n",
      "|       3175|        20|     F|2022-05-20 00:00:00|          5|349.68|           Beauty|\n",
      "|       3175|        45|     F|2023-06-02 00:00:00|          3|299.92|            Books|\n",
      "|       3918|        21|     F|2023-09-26 00:00:00|         10| 50.12|       Automotive|\n",
      "|       4101|        45|     M|2023-04-20 00:00:00|          3|299.92|            Books|\n",
      "|       4101|        27|     M|2022-12-06 00:00:00|          2|738.97|         Clothing|\n",
      "|       4818|         6|     F|2023-08-01 00:00:00|          2|688.54|         Clothing|\n",
      "+-----------+----------+------+-------------------+-----------+------+-----------------+\n",
      "only showing top 20 rows\n",
      "\n"
     ]
    }
   ],
   "source": [
    "new_df.show()"
   ]
  },
  {
   "cell_type": "code",
   "execution_count": 65,
   "id": "beaf27e2",
   "metadata": {},
   "outputs": [
    {
     "name": "stderr",
     "output_type": "stream",
     "text": [
      "23/09/17 00:07:47 WARN Resource: Detected type name in resource [spark/data]. Type names are deprecated and will be removed in a later release.\n",
      "23/09/17 00:07:47 WARN Resource: Detected type name in resource [spark/data]. Type names are deprecated and will be removed in a later release.\n",
      "23/09/17 00:07:47 WARN Resource: Detected type name in resource [spark/data]. Type names are deprecated and will be removed in a later release.\n",
      "23/09/17 00:07:47 WARN Resource: Detected type name in resource [spark/data]. Type names are deprecated and will be removed in a later release.\n",
      "23/09/17 00:07:48 WARN Resource: Detected type name in resource [spark/data]. Type names are deprecated and will be removed in a later release.\n",
      "                                                                                \r"
     ]
    }
   ],
   "source": [
    "new_df.write.format(\"es\") \\\n",
    ".option(\"es.nodes.wan.only\", \"true\") \\\n",
    ".option(\"es.net.http.auth.user\", \"elastic\") \\\n",
    ".option(\"es.net.http.auth.pass\", \"changeme\") \\\n",
    ".option(\"es.nodes\", \"172.18.0.2\") \\\n",
    ".option(\"es.port\", \"9200\") \\\n",
    ".option('es.resource',\"spark/data\") \\\n",
    ".save()"
   ]
  },
  {
   "cell_type": "code",
   "execution_count": null,
   "id": "df26a0d7",
   "metadata": {},
   "outputs": [],
   "source": [
    "new_df "
   ]
  },
  {
   "cell_type": "code",
   "execution_count": null,
   "id": "97d1de0f",
   "metadata": {},
   "outputs": [],
   "source": []
  },
  {
   "cell_type": "code",
   "execution_count": null,
   "id": "85a39685",
   "metadata": {},
   "outputs": [],
   "source": []
  },
  {
   "cell_type": "code",
   "execution_count": null,
   "id": "64005de4",
   "metadata": {},
   "outputs": [],
   "source": []
  },
  {
   "cell_type": "code",
   "execution_count": null,
   "id": "e07d23a0",
   "metadata": {},
   "outputs": [],
   "source": []
  },
  {
   "cell_type": "code",
   "execution_count": null,
   "id": "fc4ccfb5",
   "metadata": {},
   "outputs": [],
   "source": []
  }
 ],
 "metadata": {
  "kernelspec": {
   "display_name": "Python 3 (ipykernel)",
   "language": "python",
   "name": "python3"
  },
  "language_info": {
   "codemirror_mode": {
    "name": "ipython",
    "version": 3
   },
   "file_extension": ".py",
   "mimetype": "text/x-python",
   "name": "python",
   "nbconvert_exporter": "python",
   "pygments_lexer": "ipython3",
   "version": "3.10.9"
  }
 },
 "nbformat": 4,
 "nbformat_minor": 5
}
